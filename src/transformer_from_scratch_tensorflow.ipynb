{
  "nbformat": 4,
  "nbformat_minor": 0,
  "metadata": {
    "colab": {
      "provenance": [],
      "gpuType": "T4",
      "authorship_tag": "ABX9TyN0A/xWopz1+Sg7hOh4tOVb",
      "include_colab_link": true
    },
    "kernelspec": {
      "name": "python3",
      "display_name": "Python 3"
    },
    "language_info": {
      "name": "python"
    },
    "accelerator": "GPU"
  },
  "cells": [
    {
      "cell_type": "markdown",
      "metadata": {
        "id": "view-in-github",
        "colab_type": "text"
      },
      "source": [
        "<a href=\"https://colab.research.google.com/github/tonystark11/transformer-from-scratch/blob/main/src/transformer_from_scratch_tensorflow.ipynb\" target=\"_parent\"><img src=\"https://colab.research.google.com/assets/colab-badge.svg\" alt=\"Open In Colab\"/></a>"
      ]
    },
    {
      "cell_type": "markdown",
      "source": [
        "# Imports"
      ],
      "metadata": {
        "id": "Hkh8YGt1_5Mt"
      }
    },
    {
      "cell_type": "code",
      "execution_count": null,
      "metadata": {
        "id": "ODs1lrb-_03W"
      },
      "outputs": [],
      "source": [
        "import tensorflow as tf\n",
        "from tensorflow.keras import layers\n",
        "import numpy as np\n",
        "import math"
      ]
    },
    {
      "cell_type": "markdown",
      "source": [
        "# Transformer Architecture Definition"
      ],
      "metadata": {
        "id": "E1r-RezrARzJ"
      }
    },
    {
      "cell_type": "markdown",
      "source": [
        "## MultiHead Attention"
      ],
      "metadata": {
        "id": "lZmf5hYNAWQ3"
      }
    },
    {
      "cell_type": "code",
      "source": [
        "class MultiHeadAttention(layers.Layer):\n",
        "    def __init__(self, d_model, num_heads):\n",
        "        super(MultiHeadAttention, self).__init__()\n",
        "        assert d_model % num_heads == 0, \"d_model must be divisible by num_heads\"\n",
        "        self.d_model = d_model\n",
        "        self.num_heads = num_heads\n",
        "        self.d_k = d_model // num_heads\n",
        "\n",
        "        self.W_q = layers.Dense(d_model)\n",
        "        self.W_k = layers.Dense(d_model)\n",
        "        self.W_v = layers.Dense(d_model)\n",
        "        self.W_o = layers.Dense(d_model)\n",
        "\n",
        "    def scaled_dot_product_attention(self, Q, K, V, mask=None):\n",
        "        attn_scores = tf.matmul(Q, K, transpose_b=True) / math.sqrt(self.d_k)\n",
        "        if mask is not None:\n",
        "            attn_scores = tf.where(mask, -1e9, attn_scores)\n",
        "\n",
        "        attn_probs = tf.nn.softmax(attn_scores, axis=-1)\n",
        "        output = tf.matmul(attn_probs, V)\n",
        "        return output\n",
        "\n",
        "    def split_heads(self, x):\n",
        "        batch_size, seq_len, d_model = x.shape\n",
        "        return tf.transpose(tf.reshape(x, (batch_size, seq_len, self.num_heads, self.d_k)), perm=[0, 2, 1, 3])\n",
        "\n",
        "    def combine_heads(self, x):\n",
        "        batch_size, _, seq_len, d_k = x.shape\n",
        "        return tf.reshape(tf.transpose(x, perm=[0, 2, 1, 3]), (batch_size, seq_len, self.d_model))\n",
        "\n",
        "    def call(self, Q, K, V, mask=None):\n",
        "        Q = self.split_heads(self.W_q(Q))\n",
        "        K = self.split_heads(self.W_k(K))\n",
        "        V = self.split_heads(self.W_v(V))\n",
        "\n",
        "        attn_output = self.scaled_dot_product_attention(Q, K, V, mask)\n",
        "        output = self.W_o(self.combine_heads(attn_output))\n",
        "        return output"
      ],
      "metadata": {
        "id": "45_54sAqAIzZ"
      },
      "execution_count": null,
      "outputs": []
    },
    {
      "cell_type": "markdown",
      "source": [
        "## Positionwise Feed Forward Networks"
      ],
      "metadata": {
        "id": "KtdwucBCRgW0"
      }
    },
    {
      "cell_type": "code",
      "source": [
        "class PositionWiseFeedForward(layers.Layer):\n",
        "    def __init__(self, d_model, d_ff):\n",
        "        super(PositionWiseFeedForward, self).__init__()\n",
        "        self.fc1 = layers.Dense(d_ff, activation='relu')\n",
        "        self.fc2 = layers.Dense(d_model)\n",
        "\n",
        "    def call(self, x):\n",
        "        return self.fc2(self.fc1(x))"
      ],
      "metadata": {
        "id": "S5DnxpkFRlFb"
      },
      "execution_count": null,
      "outputs": []
    },
    {
      "cell_type": "markdown",
      "source": [
        "## Positional Encoding"
      ],
      "metadata": {
        "id": "s-UcI3g_SJkm"
      }
    },
    {
      "cell_type": "code",
      "source": [
        "class PositionalEncoding(layers.Layer):\n",
        "    def __init__(self, d_model, max_seq_length):\n",
        "        super(PositionalEncoding, self).__init__()\n",
        "        self.d_model = d_model\n",
        "        self.max_seq_length = max_seq_length\n",
        "\n",
        "        pe_init = np.zeros((max_seq_length, d_model), dtype=np.float32)\n",
        "        position = np.arange(0, max_seq_length, dtype=np.float32)[:, np.newaxis]\n",
        "        div_term = np.power(10_000, (-np.arange(0, d_model, 2, dtype=np.float32) / d_model))\n",
        "\n",
        "        pe_init[:, 0::2] = np.sin(position * div_term)\n",
        "        pe_init[:, 1::2] = np.cos(position * div_term)\n",
        "        pe_init = pe_init[np.newaxis, :]\n",
        "\n",
        "        self.pe = tf.cast(pe_init, dtype=tf.float32)\n",
        "\n",
        "    def call(self, x):\n",
        "        return x + self.pe[:, :x.shape[1]]"
      ],
      "metadata": {
        "id": "-ABDQqIdSE1-"
      },
      "execution_count": null,
      "outputs": []
    },
    {
      "cell_type": "markdown",
      "source": [
        "## Encoder Layer"
      ],
      "metadata": {
        "id": "LlK6noF1Z_ra"
      }
    },
    {
      "cell_type": "code",
      "source": [
        "class EncoderLayer(layers.Layer):\n",
        "    def __init__(self, d_model, num_heads, d_ff, dropout=0.1):\n",
        "        super(EncoderLayer, self).__init__()\n",
        "        self.self_attn = MultiHeadAttention(d_model, num_heads)\n",
        "        self.feed_forward = PositionWiseFeedForward(d_model, d_ff)\n",
        "        self.norm1 = layers.LayerNormalization()\n",
        "        self.norm2 = layers.LayerNormalization()\n",
        "        self.dropout = layers.Dropout(dropout)\n",
        "\n",
        "    def call(self, x, mask=None):\n",
        "        attn_output = self.self_attn(x, x, x, mask)\n",
        "        x = self.norm1(x + self.dropout(attn_output))\n",
        "        ff_output = self.feed_forward(x)\n",
        "        x = self.norm2(x + self.dropout(ff_output))\n",
        "        return x"
      ],
      "metadata": {
        "id": "UhZR0h5VZ8ce"
      },
      "execution_count": null,
      "outputs": []
    },
    {
      "cell_type": "markdown",
      "source": [
        "## Decoder Layer"
      ],
      "metadata": {
        "id": "gXb6k4hClYs1"
      }
    },
    {
      "cell_type": "code",
      "source": [
        "class DecoderLayer(layers.Layer):\n",
        "    def __init__(self, d_model, num_heads, d_ff, dropout=0.1):\n",
        "        super(DecoderLayer, self).__init__()\n",
        "        self.self_attn = MultiHeadAttention(d_model, num_heads)\n",
        "        self.cross_attn = MultiHeadAttention(d_model, num_heads)\n",
        "        self.feed_forward = PositionWiseFeedForward(d_model, d_ff)\n",
        "        self.norm1 = layers.LayerNormalization()\n",
        "        self.norm2 = layers.LayerNormalization()\n",
        "        self.norm3 = layers.LayerNormalization()\n",
        "        self.dropout = layers.Dropout(dropout)\n",
        "\n",
        "    def call(self, x, enc_output, src_mask, tgt_mask):\n",
        "        attn_output = self.self_attn(x, x, x, tgt_mask)\n",
        "        x = self.norm1(x + self.dropout(attn_output))\n",
        "        attn_output = self.cross_attn(x, enc_output, enc_output, src_mask)\n",
        "        x = self.norm2(x + self.dropout(attn_output))\n",
        "        ff_output = self.feed_forward(x)\n",
        "        x = self.norm3(x + self.dropout(ff_output))\n",
        "        return x"
      ],
      "metadata": {
        "id": "CMTQmWm0lRTw"
      },
      "execution_count": null,
      "outputs": []
    },
    {
      "cell_type": "markdown",
      "source": [
        "## Transformer Model"
      ],
      "metadata": {
        "id": "vEcNl9VtmKAc"
      }
    },
    {
      "cell_type": "code",
      "source": [
        "class Transformer(tf.keras.Model):\n",
        "    def __init__(self, src_vocab_size, tgt_vocab_size, d_model, num_heads, num_layers, d_ff, max_seq_length, dropout=0.1):\n",
        "        super(Transformer, self).__init__()\n",
        "        self.encoder_embedding = layers.Embedding(src_vocab_size, d_model)\n",
        "        self.decoder_embedding = layers.Embedding(tgt_vocab_size, d_model)\n",
        "        self.positional_encoding = PositionalEncoding(d_model, max_seq_length)\n",
        "        self.encoder_layers = [\n",
        "            EncoderLayer(d_model, num_heads, d_ff, dropout)\n",
        "            for _ in range(num_layers)\n",
        "        ]\n",
        "        self.decoder_layers = [\n",
        "            DecoderLayer(d_model, num_heads, d_ff, dropout)\n",
        "            for _ in range(num_layers)\n",
        "        ]\n",
        "        self.fc = layers.Dense(tgt_vocab_size)\n",
        "        self.dropout = layers.Dropout(dropout)\n",
        "\n",
        "    def generate_mask(self, src, tgt):\n",
        "        src_mask = tf.expand_dims(tf.expand_dims(src != 0, axis=1), axis=2)\n",
        "        tgt_mask = tf.expand_dims(tf.expand_dims(tgt != 0, axis=1), axis=3)\n",
        "        seq_length = tgt.shape[1]\n",
        "        nopeak_mask = tf.cast(tf.experimental.numpy.tril(tf.ones((1, seq_length, seq_length)), k=0), dtype=tf.bool)\n",
        "        tgt_mask = tgt_mask & nopeak_mask\n",
        "        return src_mask, tgt_mask\n",
        "\n",
        "    def call(self, inputs):\n",
        "        src, tgt = inputs\n",
        "        src_mask, tgt_mask = self.generate_mask(src, tgt)\n",
        "\n",
        "        src_embedded = self.dropout(self.positional_encoding(self.encoder_embedding(src)))\n",
        "        tgt_embedded = self.dropout(self.positional_encoding(self.decoder_embedding(tgt)))\n",
        "\n",
        "        enc_output = src_embedded\n",
        "        for enc_layer in self.encoder_layers:\n",
        "            enc_output = enc_layer(enc_output, src_mask)\n",
        "\n",
        "        dec_output = tgt_embedded\n",
        "        for dec_layer in self.decoder_layers:\n",
        "            dec_output = dec_layer(dec_output, enc_output, src_mask, tgt_mask)\n",
        "\n",
        "        output = self.fc(dec_output)\n",
        "        return output"
      ],
      "metadata": {
        "id": "pAaH8-ATmIOM"
      },
      "execution_count": null,
      "outputs": []
    },
    {
      "cell_type": "markdown",
      "source": [
        "# Test with sample data"
      ],
      "metadata": {
        "id": "QVTG0nXd8EGG"
      }
    },
    {
      "cell_type": "code",
      "source": [
        "src_vocab_size = 5000\n",
        "tgt_vocab_size = 5000\n",
        "d_model = 512\n",
        "num_heads = 8\n",
        "num_layers = 6\n",
        "d_ff = 2048\n",
        "max_seq_length = 100\n",
        "dropout = 0.1\n",
        "\n",
        "transformer = Transformer(src_vocab_size, tgt_vocab_size, d_model, num_heads, num_layers, d_ff, max_seq_length, dropout)\n",
        "\n",
        "# Generate random sample data\n",
        "src_data = tf.random.uniform((64, max_seq_length), minval=1, maxval=src_vocab_size+1, dtype=tf.int32) # (batch_size, seq_length)\n",
        "tgt_data = tf.random.uniform((64, max_seq_length), minval=1, maxval=tgt_vocab_size+1, dtype=tf.int32) # (batch_size, seq_length)"
      ],
      "metadata": {
        "id": "VnUyZxGJ40b8"
      },
      "execution_count": null,
      "outputs": []
    },
    {
      "cell_type": "code",
      "source": [
        "def masked_loss(label, pred):\n",
        "  mask = label != 0\n",
        "  loss_object = tf.keras.losses.SparseCategoricalCrossentropy(\n",
        "    from_logits=True, reduction='none')\n",
        "  loss = loss_object(label, pred)\n",
        "\n",
        "  mask = tf.cast(mask, dtype=loss.dtype)\n",
        "  loss *= mask\n",
        "\n",
        "  loss = tf.reduce_sum(loss)/tf.reduce_sum(mask)\n",
        "  return loss\n",
        "\n",
        "\n",
        "def masked_accuracy(label, pred):\n",
        "  pred = tf.argmax(pred, axis=2)\n",
        "  label = tf.cast(label, pred.dtype)\n",
        "  match = label == pred\n",
        "\n",
        "  mask = label != 0\n",
        "\n",
        "  match = match & mask\n",
        "\n",
        "  match = tf.cast(match, dtype=tf.float32)\n",
        "  mask = tf.cast(mask, dtype=tf.float32)\n",
        "  return tf.reduce_sum(match)/tf.reduce_sum(mask)"
      ],
      "metadata": {
        "id": "-jJL0z3mXZ_z"
      },
      "execution_count": null,
      "outputs": []
    },
    {
      "cell_type": "code",
      "source": [
        "transformer.compile(\n",
        "    optimizer='adam',\n",
        "    loss=masked_loss,\n",
        "    metrics=[masked_accuracy]\n",
        ")"
      ],
      "metadata": {
        "id": "lrmovLLr8smb"
      },
      "execution_count": null,
      "outputs": []
    },
    {
      "cell_type": "code",
      "source": [
        "transformer.fit(x=(src_data, tgt_data[:, :-1]), y=tgt_data[:, 1:], epochs=10)"
      ],
      "metadata": {
        "colab": {
          "base_uri": "https://localhost:8080/"
        },
        "id": "WoRsxgcwP6Hy",
        "outputId": "7ada42e1-0c8f-4fbe-a062-0f7e104664af"
      },
      "execution_count": null,
      "outputs": [
        {
          "output_type": "stream",
          "name": "stdout",
          "text": [
            "Epoch 1/10\n",
            "2/2 [==============================] - 59s 531ms/step - loss: 8.6224 - masked_accuracy: 3.1566e-04\n",
            "Epoch 2/10\n",
            "2/2 [==============================] - 1s 524ms/step - loss: 8.4074 - masked_accuracy: 6.3131e-04\n",
            "Epoch 3/10\n",
            "2/2 [==============================] - 1s 534ms/step - loss: 8.2204 - masked_accuracy: 6.3131e-04\n",
            "Epoch 4/10\n",
            "2/2 [==============================] - 1s 471ms/step - loss: 8.1599 - masked_accuracy: 4.7348e-04\n",
            "Epoch 5/10\n",
            "2/2 [==============================] - 1s 410ms/step - loss: 8.1369 - masked_accuracy: 9.4697e-04\n",
            "Epoch 6/10\n",
            "2/2 [==============================] - 1s 498ms/step - loss: 8.1258 - masked_accuracy: 0.0014\n",
            "Epoch 7/10\n",
            "2/2 [==============================] - 2s 902ms/step - loss: 8.1159 - masked_accuracy: 0.0011\n",
            "Epoch 8/10\n",
            "2/2 [==============================] - 1s 819ms/step - loss: 8.1040 - masked_accuracy: 0.0013\n",
            "Epoch 9/10\n",
            "2/2 [==============================] - 1s 476ms/step - loss: 8.1034 - masked_accuracy: 3.1566e-04\n",
            "Epoch 10/10\n",
            "2/2 [==============================] - 1s 411ms/step - loss: 8.0955 - masked_accuracy: 6.3131e-04\n"
          ]
        },
        {
          "output_type": "execute_result",
          "data": {
            "text/plain": [
              "<keras.callbacks.History at 0x7e76c3f31f60>"
            ]
          },
          "metadata": {},
          "execution_count": 73
        }
      ]
    },
    {
      "cell_type": "code",
      "source": [],
      "metadata": {
        "id": "lsACwK8FV3CS"
      },
      "execution_count": null,
      "outputs": []
    }
  ]
}